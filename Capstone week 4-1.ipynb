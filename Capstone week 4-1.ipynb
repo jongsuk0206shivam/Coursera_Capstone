{
 "cells": [
  {
   "cell_type": "markdown",
   "id": "d165a5c2",
   "metadata": {},
   "source": [
    "# The Battle of Neighborhoods | Business Proposal | Introduction"
   ]
  },
  {
   "cell_type": "markdown",
   "id": "1e8098f4",
   "metadata": {},
   "source": [
    "## Introduction:"
   ]
  },
  {
   "cell_type": "markdown",
   "id": "9b05d1be",
   "metadata": {},
   "source": [
    "The purpose of this Project is to help people in exploring better facilities around their neighborhood. It will help people making smart and efficient decision on selecting great neighborhood out of numbers of other neighborhoods in Scarborough, Toranto.\n",
    "\n",
    "Lots of people are migrating to various states of Canada and needed lots of research for good housing prices and reputated schools for their children. This project is for those people who are looking for better neighborhoods. For ease of accessing to Cafe, School, Super market, medical shops, grocery shops, mall, theatre, hospital, like minded people, etc.\n",
    "\n",
    "This Project aim to create an analysis of features for a people migrating to Scarborough to search a best neighborhood as a comparative analysis between neighborhoods. The features include median housing price and better school according to ratings, crime rates of that particular area, road connectivity, weather conditions, good management for emergency, water resources both freash and waste water and excrement conveyed in sewers and recreational facilities.\n",
    "\n",
    "It will help people to get awareness of the area and neighborhood before moving to a new city, state, country or place for their work or to start a new fresh life."
   ]
  },
  {
   "cell_type": "markdown",
   "id": "414f36ca",
   "metadata": {},
   "source": [
    "## Problem Which Tried to Solve:"
   ]
  },
  {
   "cell_type": "markdown",
   "id": "26c363bd",
   "metadata": {},
   "source": [
    "The major purpose of this project, is to suggest a better neighborhood in a new city for the person who are shiffting there. Social presence in society in terms of like minded people. Connectivity to the airport, bus stand, city center, markets and other daily needs things nearby.\n",
    "\n",
    "Sorted list of house in terms of housing prices in a ascending or descending order\n",
    "Sorted list of schools in terms of location, fees, rating and reviews"
   ]
  },
  {
   "cell_type": "markdown",
   "id": "b4116f31",
   "metadata": {},
   "source": [
    "## The Location:"
   ]
  },
  {
   "cell_type": "markdown",
   "id": "5255e2b0",
   "metadata": {},
   "source": [
    "Scarborough is a popular destination for new immigrants in Canada to reside. As a result, it is one of the most diverse and multicultural areas in the Greater Toronto Area, being home to various religious groups and places of worship. Although immigration has become a hot topic over the past few years with more governments seeking more restrictions on immigrants and refugees, the general trend of immigration into Canada has been one of on the rise."
   ]
  },
  {
   "cell_type": "markdown",
   "id": "d513c4c9",
   "metadata": {},
   "source": [
    "## Foursquare API:"
   ]
  },
  {
   "cell_type": "markdown",
   "id": "06ed3430",
   "metadata": {},
   "source": [
    "This project would use Four-square API as its prime data gathering source as it has a database of millions of places, especially their places API which provides the ability to perform location search, location sharing and details about a business."
   ]
  },
  {
   "cell_type": "markdown",
   "id": "357120f6",
   "metadata": {},
   "source": [
    "## Work Flow:"
   ]
  },
  {
   "cell_type": "markdown",
   "id": "52e25054",
   "metadata": {},
   "source": [
    "Using credentials of Foursquare API features of near-by places of the neighborhoods would be mined. Due to http request limitations the number of places per neighborhood parameter would reasonably be set to 100 and the radius parameter would be set to 500."
   ]
  },
  {
   "cell_type": "markdown",
   "id": "1647e1e9",
   "metadata": {},
   "source": [
    "## Clustering Approach:"
   ]
  },
  {
   "cell_type": "markdown",
   "id": "c43d713f",
   "metadata": {},
   "source": [
    "To compare the similarities of two cities, we decided to explore neighborhoods, segment them, and group them into clusters to find similar neighborhoods in a big city like New York and Toronto. To be able to do that, we need to cluster data which is a form of unsupervised machine learning: k-means clustering algorithm"
   ]
  },
  {
   "cell_type": "markdown",
   "id": "45df2447",
   "metadata": {},
   "source": [
    "## Libraries Which are Used to Develope the Project:"
   ]
  },
  {
   "cell_type": "markdown",
   "id": "8e9bd3af",
   "metadata": {},
   "source": [
    "Pandas: For creating and manipulating dataframes.\n",
    "\n",
    "Folium: Python visualization library would be used to visualize the neighborhoods cluster distribution of using interactive leaflet map.\n",
    "\n",
    "Scikit Learn: For importing k-means clustering.\n",
    "\n",
    "JSON: Library to handle JSON files.\n",
    "\n",
    "XML: To separate data from presentation and XML stores data in plain text format.\n",
    "\n",
    "Geocoder: To retrieve Location Data.\n",
    "\n",
    "Beautiful Soup and Requests: To scrap and library to handle http requests.\n",
    "\n",
    "Matplotlib: Python Plotting Module."
   ]
  }
 ],
 "metadata": {
  "kernelspec": {
   "display_name": "Python 3",
   "language": "python",
   "name": "python3"
  },
  "language_info": {
   "codemirror_mode": {
    "name": "ipython",
    "version": 3
   },
   "file_extension": ".py",
   "mimetype": "text/x-python",
   "name": "python",
   "nbconvert_exporter": "python",
   "pygments_lexer": "ipython3",
   "version": "3.8.8"
  }
 },
 "nbformat": 4,
 "nbformat_minor": 5
}
